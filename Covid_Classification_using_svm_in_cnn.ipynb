{
  "nbformat": 4,
  "nbformat_minor": 0,
  "metadata": {
    "colab": {
      "name": "Covid Classification using svm in cnn.ipynb",
      "provenance": [],
      "collapsed_sections": []
    },
    "kernelspec": {
      "name": "python3",
      "display_name": "Python 3"
    },
    "language_info": {
      "name": "python"
    },
    "accelerator": "GPU"
  },
  "cells": [
    {
      "cell_type": "code",
      "metadata": {
        "id": "cZptJEY3D29I"
      },
      "source": [
        "# Convolutional Neural Network\n",
        "\n",
        "# Importing the libraries\n",
        "import tensorflow as tf\n",
        "from tensorflow.keras.preprocessing.image import ImageDataGenerator"
      ],
      "execution_count": null,
      "outputs": []
    },
    {
      "cell_type": "code",
      "metadata": {
        "id": "tOvpj7D1EL4T"
      },
      "source": [
        "# Part 1 - Data Preprocessing\n",
        "\n",
        "# Preprocessing the Training set\n",
        "train_datagen = ImageDataGenerator(rescale = 1./255,\n",
        "                                   shear_range = 0.2,\n",
        "                                   zoom_range = 0.2,\n",
        "                                   horizontal_flip = True)"
      ],
      "execution_count": null,
      "outputs": []
    },
    {
      "cell_type": "code",
      "metadata": {
        "id": "mGTQn0QOF0MU",
        "colab": {
          "base_uri": "https://localhost:8080/"
        },
        "outputId": "7eca5a83-d1b4-47e0-e26d-39ce705ad119"
      },
      "source": [
        "training_set = train_datagen.flow_from_directory('/content/drive/MyDrive/dataset/train',\n",
        "                                                 target_size = (64, 64),\n",
        "                                                 batch_size = 32,\n",
        "                                                 class_mode = 'binary')\n",
        "\n",
        "# Preprocessing the Test set\n",
        "test_datagen = ImageDataGenerator(rescale = 1./255)\n",
        "test_set = test_datagen.flow_from_directory('/content/drive/MyDrive/dataset/test',\n",
        "                                            target_size = (64, 64),\n",
        "                                            batch_size = 32,\n",
        "                                            class_mode = 'binary')"
      ],
      "execution_count": null,
      "outputs": [
        {
          "output_type": "stream",
          "name": "stdout",
          "text": [
            "Found 244 images belonging to 2 classes.\n",
            "Found 20 images belonging to 2 classes.\n"
          ]
        }
      ]
    },
    {
      "cell_type": "code",
      "metadata": {
        "id": "oIg8bw28F8bA"
      },
      "source": [
        "from tensorflow.keras.layers import Conv2D\n",
        "from tensorflow.keras.layers import Dense\n",
        "from tensorflow.keras.regularizers import l2"
      ],
      "execution_count": null,
      "outputs": []
    },
    {
      "cell_type": "code",
      "metadata": {
        "id": "mdZQoH9sGNT6"
      },
      "source": [
        "# Part 2 - Building the CNN\n",
        "# Initialising the CNN\n",
        "cnn = tf.keras.models.Sequential()\n",
        "\n",
        "# Step 1 - Convolution\n",
        "cnn.add(tf.keras.layers.Conv2D(filters=32,padding=\"same\",kernel_size=3, activation='relu', strides=2, input_shape=[64, 64, 3]))\n",
        "\n",
        "# Step 2 - Pooling\n",
        "cnn.add(tf.keras.layers.MaxPool2D(pool_size=2, strides=2))\n",
        "\n",
        "# Adding a second convolutional layer\n",
        "cnn.add(tf.keras.layers.Conv2D(filters=32,padding='same',kernel_size=3, activation='relu'))\n",
        "cnn.add(tf.keras.layers.MaxPool2D(pool_size=2, strides=2))\n",
        "\n",
        "# Step 3 - Flattening\n",
        "cnn.add(tf.keras.layers.Flatten())\n",
        "\n",
        "# Step 4 - Full Connection\n",
        "cnn.add(tf.keras.layers.Dense(units=128, activation='relu'))\n",
        "\n",
        "# Step 5 - Output Layer\n",
        "#cnn.add(tf.keras.layers.Dense(units=1, activation='sigmoid'))\n",
        "## For Binary Classification\n",
        "cnn.add(Dense(1, kernel_regularizer=tf.keras.regularizers.l2(0.01),activation\n",
        "             ='linear'))"
      ],
      "execution_count": null,
      "outputs": []
    },
    {
      "cell_type": "code",
      "metadata": {
        "id": "OudM2--kGQrq",
        "colab": {
          "base_uri": "https://localhost:8080/"
        },
        "outputId": "882aaca4-9ada-427b-fa5d-d97bfe1a049d"
      },
      "source": [
        "cnn.summary()"
      ],
      "execution_count": null,
      "outputs": [
        {
          "output_type": "stream",
          "name": "stdout",
          "text": [
            "Model: \"sequential\"\n",
            "_________________________________________________________________\n",
            "Layer (type)                 Output Shape              Param #   \n",
            "=================================================================\n",
            "conv2d (Conv2D)              (None, 32, 32, 32)        896       \n",
            "_________________________________________________________________\n",
            "max_pooling2d (MaxPooling2D) (None, 16, 16, 32)        0         \n",
            "_________________________________________________________________\n",
            "conv2d_1 (Conv2D)            (None, 16, 16, 32)        9248      \n",
            "_________________________________________________________________\n",
            "max_pooling2d_1 (MaxPooling2 (None, 8, 8, 32)          0         \n",
            "_________________________________________________________________\n",
            "flatten (Flatten)            (None, 2048)              0         \n",
            "_________________________________________________________________\n",
            "dense (Dense)                (None, 128)               262272    \n",
            "_________________________________________________________________\n",
            "dense_1 (Dense)              (None, 1)                 129       \n",
            "=================================================================\n",
            "Total params: 272,545\n",
            "Trainable params: 272,545\n",
            "Non-trainable params: 0\n",
            "_________________________________________________________________\n"
          ]
        }
      ]
    },
    {
      "cell_type": "code",
      "metadata": {
        "id": "oWgO6K2iGUma",
        "colab": {
          "base_uri": "https://localhost:8080/"
        },
        "outputId": "03025b88-15d0-44e1-e492-1a6c33b40cba"
      },
      "source": [
        "# Part 3 - Training the CNN\n",
        "\n",
        "# Compiling the CNN\n",
        "cnn.compile(optimizer = 'adam', loss = 'hinge', metrics = ['accuracy'])\n",
        "\n",
        "# Training the CNN on the Training set and evaluating it on the Test set\n",
        "r=cnn.fit(x = training_set, validation_data = test_set, epochs = 30)"
      ],
      "execution_count": null,
      "outputs": [
        {
          "output_type": "stream",
          "name": "stdout",
          "text": [
            "Epoch 1/30\n",
            "8/8 [==============================] - 82s 6s/step - loss: 0.8941 - accuracy: 0.5246 - val_loss: 0.3396 - val_accuracy: 1.0000\n",
            "Epoch 2/30\n",
            "8/8 [==============================] - 9s 1s/step - loss: 0.5422 - accuracy: 0.7582 - val_loss: 0.1094 - val_accuracy: 1.0000\n",
            "Epoch 3/30\n",
            "8/8 [==============================] - 9s 1s/step - loss: 0.4654 - accuracy: 0.8033 - val_loss: 0.0681 - val_accuracy: 1.0000\n",
            "Epoch 4/30\n",
            "8/8 [==============================] - 9s 1s/step - loss: 0.3829 - accuracy: 0.8033 - val_loss: 0.1809 - val_accuracy: 1.0000\n",
            "Epoch 5/30\n",
            "8/8 [==============================] - 9s 1s/step - loss: 0.3398 - accuracy: 0.8525 - val_loss: 0.0244 - val_accuracy: 1.0000\n",
            "Epoch 6/30\n",
            "8/8 [==============================] - 9s 1s/step - loss: 0.2375 - accuracy: 0.9139 - val_loss: 0.0471 - val_accuracy: 1.0000\n",
            "Epoch 7/30\n",
            "8/8 [==============================] - 9s 1s/step - loss: 0.1889 - accuracy: 0.9180 - val_loss: 0.0438 - val_accuracy: 1.0000\n",
            "Epoch 8/30\n",
            "8/8 [==============================] - 9s 1s/step - loss: 0.1312 - accuracy: 0.9590 - val_loss: 0.0159 - val_accuracy: 1.0000\n",
            "Epoch 9/30\n",
            "8/8 [==============================] - 9s 1s/step - loss: 0.1162 - accuracy: 0.9549 - val_loss: 0.0155 - val_accuracy: 1.0000\n",
            "Epoch 10/30\n",
            "8/8 [==============================] - 9s 1s/step - loss: 0.0979 - accuracy: 0.9590 - val_loss: 0.0199 - val_accuracy: 1.0000\n",
            "Epoch 11/30\n",
            "8/8 [==============================] - 9s 1s/step - loss: 0.1017 - accuracy: 0.9549 - val_loss: 0.0235 - val_accuracy: 1.0000\n",
            "Epoch 12/30\n",
            "8/8 [==============================] - 9s 1s/step - loss: 0.1194 - accuracy: 0.9549 - val_loss: 0.0464 - val_accuracy: 1.0000\n",
            "Epoch 13/30\n",
            "8/8 [==============================] - 9s 1s/step - loss: 0.1106 - accuracy: 0.9754 - val_loss: 0.0142 - val_accuracy: 1.0000\n",
            "Epoch 14/30\n",
            "8/8 [==============================] - 9s 1s/step - loss: 0.1100 - accuracy: 0.9590 - val_loss: 0.0140 - val_accuracy: 1.0000\n",
            "Epoch 15/30\n",
            "8/8 [==============================] - 9s 1s/step - loss: 0.0882 - accuracy: 0.9590 - val_loss: 0.0137 - val_accuracy: 1.0000\n",
            "Epoch 16/30\n",
            "8/8 [==============================] - 9s 1s/step - loss: 0.0750 - accuracy: 0.9672 - val_loss: 0.0135 - val_accuracy: 1.0000\n",
            "Epoch 17/30\n",
            "8/8 [==============================] - 9s 1s/step - loss: 0.0907 - accuracy: 0.9631 - val_loss: 0.0133 - val_accuracy: 1.0000\n",
            "Epoch 18/30\n",
            "8/8 [==============================] - 9s 1s/step - loss: 0.0625 - accuracy: 0.9795 - val_loss: 0.0131 - val_accuracy: 1.0000\n",
            "Epoch 19/30\n",
            "8/8 [==============================] - 9s 1s/step - loss: 0.0428 - accuracy: 0.9959 - val_loss: 0.0130 - val_accuracy: 1.0000\n",
            "Epoch 20/30\n",
            "8/8 [==============================] - 9s 1s/step - loss: 0.0497 - accuracy: 0.9754 - val_loss: 0.0128 - val_accuracy: 1.0000\n",
            "Epoch 21/30\n",
            "8/8 [==============================] - 8s 1s/step - loss: 0.0418 - accuracy: 0.9795 - val_loss: 0.0127 - val_accuracy: 1.0000\n",
            "Epoch 22/30\n",
            "8/8 [==============================] - 9s 1s/step - loss: 0.0247 - accuracy: 0.9918 - val_loss: 0.0126 - val_accuracy: 1.0000\n",
            "Epoch 23/30\n",
            "8/8 [==============================] - 9s 1s/step - loss: 0.0274 - accuracy: 1.0000 - val_loss: 0.0125 - val_accuracy: 1.0000\n",
            "Epoch 24/30\n",
            "8/8 [==============================] - 9s 1s/step - loss: 0.0326 - accuracy: 0.9918 - val_loss: 0.0124 - val_accuracy: 1.0000\n",
            "Epoch 25/30\n",
            "8/8 [==============================] - 9s 1s/step - loss: 0.0395 - accuracy: 0.9918 - val_loss: 0.0123 - val_accuracy: 1.0000\n",
            "Epoch 26/30\n",
            "8/8 [==============================] - 9s 1s/step - loss: 0.0494 - accuracy: 0.9754 - val_loss: 0.0122 - val_accuracy: 1.0000\n",
            "Epoch 27/30\n",
            "8/8 [==============================] - 9s 1s/step - loss: 0.0602 - accuracy: 0.9836 - val_loss: 0.0121 - val_accuracy: 1.0000\n",
            "Epoch 28/30\n",
            "8/8 [==============================] - 9s 1s/step - loss: 0.0303 - accuracy: 0.9918 - val_loss: 0.0121 - val_accuracy: 1.0000\n",
            "Epoch 29/30\n",
            "8/8 [==============================] - 9s 1s/step - loss: 0.0347 - accuracy: 0.9959 - val_loss: 0.0120 - val_accuracy: 1.0000\n",
            "Epoch 30/30\n",
            "8/8 [==============================] - 9s 1s/step - loss: 0.0338 - accuracy: 0.9877 - val_loss: 0.0119 - val_accuracy: 1.0000\n"
          ]
        }
      ]
    },
    {
      "cell_type": "code",
      "metadata": {
        "id": "BL61mDfIGxhS",
        "colab": {
          "base_uri": "https://localhost:8080/",
          "height": 513
        },
        "outputId": "de83ae40-42d3-4401-fca5-08b7c0078710"
      },
      "source": [
        "# plot the loss\n",
        "import matplotlib.pyplot as plt\n",
        "plt.plot(r.history['loss'], label='train loss')\n",
        "plt.plot(r.history['val_loss'], label='val loss')\n",
        "plt.legend()\n",
        "plt.show()\n",
        "\n",
        "\n",
        "# plot the accuracy\n",
        "plt.plot(r.history['accuracy'], label='train acc')\n",
        "plt.plot(r.history['val_accuracy'], label='val acc')\n",
        "plt.legend()\n",
        "plt.show()"
      ],
      "execution_count": null,
      "outputs": [
        {
          "output_type": "display_data",
          "data": {
            "image/png": "[encoded data removed]",
            "text/plain": [
              "<Figure size 432x288 with 1 Axes>"
            ]
          },
          "metadata": {
            "needs_background": "light"
          }
        },
        {
          "output_type": "display_data",
          "data": {
            "image/png": "[encoded data removed]",
            "text/plain": [
              "<Figure size 432x288 with 1 Axes>"
            ]
          },
          "metadata": {
            "needs_background": "light"
          }
        }
      ]
    },
    {
      "cell_type": "code",
      "metadata": {
        "id": "Z36TQnBI3R2R"
      },
      "source": [
        "# save it as a h5 file\n",
        "\n",
        "\n",
        "from tensorflow.keras.models import load_model\n",
        "\n",
        "cnn.save('model_corona_vs_normal.h5')"
      ],
      "execution_count": null,
      "outputs": []
    },
    {
      "cell_type": "code",
      "metadata": {
        "id": "UuqDhLg3qR1B"
      },
      "source": [
        ""
      ],
      "execution_count": null,
      "outputs": []
    }
  ]
}